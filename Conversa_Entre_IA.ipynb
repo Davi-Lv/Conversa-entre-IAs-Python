{
  "nbformat": 4,
  "nbformat_minor": 0,
  "metadata": {
    "colab": {
      "provenance": [],
      "authorship_tag": "ABX9TyPYjK+qxvVLjBPJAAsh89KW",
      "include_colab_link": true
    },
    "kernelspec": {
      "name": "python3",
      "display_name": "Python 3"
    },
    "language_info": {
      "name": "python"
    }
  },
  "cells": [
    {
      "cell_type": "markdown",
      "metadata": {
        "id": "view-in-github",
        "colab_type": "text"
      },
      "source": [
        "<a href=\"https://colab.research.google.com/github/Davi-Lv/Python-IA/blob/main/Conversa_Entre_IA.ipynb\" target=\"_parent\"><img src=\"https://colab.research.google.com/assets/colab-badge.svg\" alt=\"Open In Colab\"/></a>"
      ]
    },
    {
      "cell_type": "code",
      "source": [
        "#!pip install openai"
      ],
      "metadata": {
        "id": "h8aZU_9VOM9d"
      },
      "execution_count": null,
      "outputs": []
    },
    {
      "cell_type": "code",
      "source": [
        "# Importando a biblioteca da OpenAI\n",
        "import openai\n",
        "\n",
        "# Key API do OpenAI\n",
        "openai.api_key = \"Key API\"\n",
        "\n",
        "# Escolha o modelo de conversa da openAi\n",
        "model_engine = 'text-davinci-003'\n",
        "\n",
        "# Primeiras mensagens de interações e as variáveis que armazenarão as mensagens das IAs\n",
        "message1 = \"Vamos conversar? Fale um assunto\"\n",
        "message2 = ''\n",
        "print('IA 1: ' + message1)\n",
        "print('')\n",
        "\n",
        "# Loop de conversação entre as duas IAs\n",
        "i = 0\n",
        "while i < 4:\n",
        "    try:\n",
        "        # Gera uma resposta da IA 2 com base na última mensagem da IA 1\n",
        "        response2 = openai.Completion.create(engine=model_engine,  \n",
        "                                             prompt=\"Interaja com base no texto a seguir e faça uma pergunta no final: \" + message1)\n",
        "\n",
        "        # Exibir a resposta da IA 2\n",
        "        print(\"IA 2: \" + response2.choices[0].text.strip())\n",
        "\n",
        "        # Atualiza a mensagem da IA 2 com base na resposta gerada\n",
        "        message2 = response2.choices[0].text.strip()\n",
        "\n",
        "        # Gera uma resposta da IA 1 com base na última mensagem da IA 2\n",
        "        response1 = openai.Completion.create(engine=model_engine,  \n",
        "                                             prompt=\"Interaja com base no texto a seguir e faça uma pergunta no final: \" + message2)\n",
        "\n",
        "        # Exibir a resposta da IA 1\n",
        "        print(\"IA 1: \" + response1.choices[0].text.strip())\n",
        "\n",
        "        # Atualiza a mensagem da IA 1 com base na resposta gerada\n",
        "        message1 = response1.choices[0].text.strip()\n",
        "\n",
        "        # Incrementa o contador de iterações\n",
        "        i += 1\n",
        "\n",
        "    except Exception as e:\n",
        "        print(\"Erro: \", str(e))\n"
      ],
      "metadata": {
        "colab": {
          "base_uri": "https://localhost:8080/"
        },
        "id": "cx3GP9gngUFL",
        "outputId": "ec7a5b43-a380-4ba1-94dd-9a8dfdb54e5e"
      },
      "execution_count": 3,
      "outputs": [
        {
          "output_type": "stream",
          "name": "stdout",
          "text": [
            "IA 1: Vamos conversar? Fale um assunto\n",
            "\n",
            "IA 2: que gostaria de abordar.\n",
            "\n",
            "Gostaria de fal\n",
            "IA 1: ar sobre direitos humanos\n",
            "\n",
            "Você acredita\n",
            "IA 2: que o direito humano está sendo cumprido em se\n",
            "IA 1: u país?\n",
            "\n",
            "O direito humano é uma questão\n",
            "IA 2: muito delicada que está relacionada a todo país\n",
            "IA 1: O Brasil vive um profundo desequilíbrio\n",
            "IA 2: social.\n",
            "\n",
            "Por que esse desequilíbrio social\n",
            "IA 1: está ocorrendo?\n",
            "\n",
            "O desequilíbrio\n",
            "IA 2: entre o meio ambiente e o modo como o homem\n",
            "IA 1: atua sobre ele, qual é a relação?\n",
            "IA 2: A relação se estabelece quando um grupo\n",
            "IA 1: de pessoas unem-se para fazer algo junt\n",
            "IA 2: os.\n",
            "\n",
            "Juntando-se a outras pessoas\n",
            "IA 1: é uma ótima maneira de construir habil\n",
            "IA 2: idades de comunicação\n",
            "\n",
            "Estabelecer resultados\n",
            "IA 1: alinhados aos objetivos de comunicação\n",
            "IA 2: de cada marca,\n",
            "\n",
            "Parabéns, você ent\n",
            "IA 1: rou para a família de marcas de renome mundial da Johnson\n",
            "IA 2: &Johnson.\n",
            "\n",
            "Johnson&Johnson é uma das maiores\n",
            "IA 1: empresas de saúde no mundo. Fundada em 1886,\n"
          ]
        }
      ]
    }
  ]
}